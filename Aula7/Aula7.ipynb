{
 "cells": [
  {
   "cell_type": "code",
   "execution_count": 1,
   "metadata": {},
   "outputs": [],
   "source": [
    "import pandas as pd\n",
    "import numpy as np\n",
    "import matplotlib.pyplot as plt\n",
    "%matplotlib inline"
   ]
  },
  {
   "cell_type": "code",
   "execution_count": null,
   "metadata": {},
   "outputs": [],
   "source": [
    "pwd"
   ]
  },
  {
   "cell_type": "code",
   "execution_count": null,
   "metadata": {},
   "outputs": [],
   "source": [
    "!python  --version"
   ]
  },
  {
   "cell_type": "code",
   "execution_count": null,
   "metadata": {},
   "outputs": [],
   "source": [
    "df_OR = pd.read_excel(\"OR.xlsx\", index_col = \"Lição\")\n",
    "df_OR"
   ]
  },
  {
   "cell_type": "code",
   "execution_count": null,
   "metadata": {},
   "outputs": [],
   "source": [
    "cores = [\"blue\", \"orange\", \"orange\", \"orange\"]\n",
    "plt.scatter(df_OR[\"Entrada_Um\"], df_OR[\"Entrada_Dois\"], c = cores)\n",
    "plt.title(\"Porta Lógica OR\")\n",
    "plt.xlabel(\"Entrada_Um\")\n",
    "plt.ylabel(\"Entrada_Dois\")\n",
    "plt.savefig(\"Gráfico_OR.jpg\")\n",
    "plt.show()"
   ]
  },
  {
   "cell_type": "code",
   "execution_count": null,
   "metadata": {},
   "outputs": [],
   "source": [
    "df_AND = pd.read_excel(\"AND.xlsx\", index_col = \"Lição\")\n",
    "df_AND"
   ]
  },
  {
   "cell_type": "code",
   "execution_count": null,
   "metadata": {},
   "outputs": [],
   "source": [
    "cores = [\"blue\", \"blue\", \"blue\", \"orange\"]\n",
    "plt.scatter(df_AND[\"Entrada_Um\"], df_AND[\"Entrada_Dois\"], c = cores)\n",
    "plt.title(\"Porta Lógica AND\")\n",
    "plt.xlabel(\"Entrada_Um\")\n",
    "plt.ylabel(\"Entrada_Dois\")\n",
    "plt.savefig(\"Gráfico_AND.jpg\")\n",
    "plt.show()"
   ]
  },
  {
   "cell_type": "code",
   "execution_count": null,
   "metadata": {},
   "outputs": [],
   "source": [
    "Entrada_Um = [0, 0, 1, 1]\n",
    "Entrada_Dois = [0, 1, 0, 1]\n",
    "Saida_XOR = [0, 1, 1, 0]\n",
    "Colunas = [\"Entrada_Um\", \"Entrada_Dois\", \"Saida_XOR\"]\n",
    "Indice = [1, 2, 3, 4]"
   ]
  },
  {
   "cell_type": "code",
   "execution_count": null,
   "metadata": {},
   "outputs": [],
   "source": [
    "df_XOR = pd.DataFrame([], columns = Colunas, index = Indice)\n",
    "df_XOR"
   ]
  },
  {
   "cell_type": "code",
   "execution_count": null,
   "metadata": {},
   "outputs": [],
   "source": [
    "df_XOR[\"Entrada_Um\"] = Entrada_Um\n",
    "df_XOR[\"Entrada_Dois\"] = Entrada_Dois\n",
    "df_XOR[\"Saida_XOR\"] = Saida_XOR\n",
    "df_XOR"
   ]
  },
  {
   "cell_type": "code",
   "execution_count": null,
   "metadata": {},
   "outputs": [],
   "source": [
    "cores = [\"blue\", \"orange\", \"orange\", \"blue\"]\n",
    "plt.scatter(df_XOR[\"Entrada_Um\"], df_XOR[\"Entrada_Dois\"], c = cores)\n",
    "plt.title(\"Porta Lógica XOR\")\n",
    "plt.xlabel(\"Entrada_Um\")\n",
    "plt.ylabel(\"Entrada_Dois\")\n",
    "plt.savefig(\"Gráfico_XOR.jpg\")\n",
    "plt.show()"
   ]
  },
  {
   "cell_type": "code",
   "execution_count": null,
   "metadata": {},
   "outputs": [],
   "source": [
    "df_OR"
   ]
  },
  {
   "cell_type": "code",
   "execution_count": null,
   "metadata": {},
   "outputs": [],
   "source": [
    "from sklearn.pipeline import Pipeline\n",
    "from sklearn.preprocessing import StandardScaler\n",
    "from sklearn.svm import LinearSVC\n",
    "from sklearn.metrics import confusion_matrix"
   ]
  },
  {
   "cell_type": "code",
   "execution_count": null,
   "metadata": {},
   "outputs": [],
   "source": [
    "X_OR = df_OR.iloc[:, 0:-1]\n",
    "y_OR = df_OR.iloc[:, -1]\n",
    "y_OR"
   ]
  },
  {
   "cell_type": "code",
   "execution_count": null,
   "metadata": {},
   "outputs": [],
   "source": [
    "svm_clf_OR = Pipeline([\n",
    "    (\"scaler\", StandardScaler()),\n",
    "    (\"linear_svc\", LinearSVC(C = 0.5, loss = \"hinge\", penalty='l2')),\n",
    "])\n",
    "svm_clf_OR.fit(X_OR, y_OR)"
   ]
  },
  {
   "cell_type": "code",
   "execution_count": null,
   "metadata": {},
   "outputs": [],
   "source": [
    "svm_clf_OR.predict([[0, 0]])"
   ]
  },
  {
   "cell_type": "code",
   "execution_count": null,
   "metadata": {},
   "outputs": [],
   "source": [
    "svm_clf_OR.predict([[0, 1]])"
   ]
  },
  {
   "cell_type": "code",
   "execution_count": null,
   "metadata": {},
   "outputs": [],
   "source": [
    "svm_clf_OR.predict([[1, 0]])"
   ]
  },
  {
   "cell_type": "code",
   "execution_count": null,
   "metadata": {},
   "outputs": [],
   "source": [
    "svm_clf_OR.predict([[1, 1]])"
   ]
  },
  {
   "cell_type": "code",
   "execution_count": null,
   "metadata": {},
   "outputs": [],
   "source": [
    "Predicao_OR = svm_clf_OR.predict(X_OR)\n",
    "confusion_matrix(y_OR, Predicao_OR)"
   ]
  },
  {
   "cell_type": "code",
   "execution_count": null,
   "metadata": {},
   "outputs": [],
   "source": [
    "df_OR_Predicao = df_OR.copy()\n",
    "df_OR_Predicao[\"Predicao\"] = Predicao_OR\n",
    "df_OR_Predicao"
   ]
  },
  {
   "cell_type": "code",
   "execution_count": null,
   "metadata": {},
   "outputs": [],
   "source": [
    "!pip install mlxtend"
   ]
  },
  {
   "cell_type": "code",
   "execution_count": null,
   "metadata": {},
   "outputs": [],
   "source": [
    "from mlxtend.plotting import plot_decision_regions"
   ]
  },
  {
   "cell_type": "code",
   "execution_count": null,
   "metadata": {},
   "outputs": [],
   "source": [
    "Parametros_Plot_mlxtend = {\"X\" : X_OR.values ,\n",
    "                           \"y\" : y_OR.values ,\n",
    "                           \"clf\" : svm_clf_OR ,\n",
    "                           \"legend\" : 2\n",
    "                          }\n",
    "plot_decision_regions(**Parametros_Plot_mlxtend)\n",
    "plt.xlabel(X_OR.columns[0], size=14)\n",
    "plt.ylabel(X_OR.columns[1], size=14)\n",
    "plt.title('Fronteira Separadora do SVM para OR', size=16)"
   ]
  },
  {
   "cell_type": "code",
   "execution_count": null,
   "metadata": {},
   "outputs": [],
   "source": [
    "X_AND = df_AND.iloc[:, 0:-1]\n",
    "y_AND = df_AND.iloc[:, -1]\n",
    "svm_clf_AND = Pipeline([\n",
    "    (\"scaler\", StandardScaler()),\n",
    "    (\"linear_svc\", LinearSVC(C = 1, loss = \"hinge\", penalty='l2')),\n",
    "])\n",
    "svm_clf_AND.fit(X_AND, y_AND)\n",
    "Predicao_AND = svm_clf_AND.predict(X_AND)\n",
    "confusion_matrix(y_AND, Predicao_AND)"
   ]
  },
  {
   "cell_type": "code",
   "execution_count": null,
   "metadata": {},
   "outputs": [],
   "source": [
    "Parametros_Plot_mlxtend = {\"X\" : X_AND.values ,\n",
    "                           \"y\" : y_AND.values ,\n",
    "                           \"clf\" : svm_clf_AND ,\n",
    "                           \"legend\" : 2\n",
    "                          }\n",
    "plot_decision_regions(**Parametros_Plot_mlxtend)\n",
    "plt.xlabel(X_AND.columns[0], size=14)\n",
    "plt.ylabel(X_AND.columns[1], size=14)\n",
    "plt.title('Fronteira Separadora do SVM para AND', size=16)"
   ]
  },
  {
   "cell_type": "code",
   "execution_count": null,
   "metadata": {},
   "outputs": [],
   "source": [
    "X_XOR = df_XOR.iloc[:, 0:-1]\n",
    "y_XOR = df_XOR.iloc[:, -1]\n",
    "svm_clf_XOR = Pipeline([\n",
    "    (\"scaler\", StandardScaler()),\n",
    "    (\"linear_svc\", LinearSVC(C = 1, loss = \"squared_hinge\", penalty='l2')),\n",
    "])\n",
    "svm_clf_XOR.fit(X_XOR, y_XOR)\n",
    "Predito_XOR = svm_clf_XOR.predict(X_XOR)\n",
    "Predito_XOR"
   ]
  },
  {
   "cell_type": "code",
   "execution_count": null,
   "metadata": {},
   "outputs": [],
   "source": [
    "from sklearn.preprocessing import PolynomialFeatures"
   ]
  },
  {
   "cell_type": "code",
   "execution_count": null,
   "metadata": {},
   "outputs": [],
   "source": [
    "X_XOR = df_XOR.iloc[:, 0:-1]\n",
    "y_XOR = df_XOR.iloc[:, -1]\n",
    "svm_clf_XOR = Pipeline([\n",
    "    (\"poly_features\", PolynomialFeatures(degree = 2)),\n",
    "    (\"linear_svc\", LinearSVC(C = 1, loss = \"squared_hinge\", penalty='l2', )),\n",
    "])\n",
    "svm_clf_XOR.fit(X_XOR, y_XOR)\n",
    "Predito_XOR = svm_clf_XOR.predict(X_XOR)\n",
    "confusion_matrix(y_XOR, Predito_XOR)"
   ]
  },
  {
   "cell_type": "code",
   "execution_count": null,
   "metadata": {},
   "outputs": [],
   "source": [
    "df_XOR_Resultado = df_XOR.copy()\n",
    "df_XOR_Resultado[\"Predito_XOR\"] = Predito_XOR\n",
    "df_XOR_Resultado"
   ]
  },
  {
   "cell_type": "code",
   "execution_count": null,
   "metadata": {},
   "outputs": [],
   "source": [
    "Parametros_Plot_mlxtend = {\"X\" : X_XOR.values ,\n",
    "                           \"y\" : y_XOR.values ,\n",
    "                           \"clf\" : svm_clf_XOR ,\n",
    "                           \"legend\" : 2\n",
    "                          }\n",
    "plot_decision_regions(**Parametros_Plot_mlxtend)\n",
    "plt.xlabel(X_XOR.columns[0], size=14)\n",
    "plt.ylabel(X_XOR.columns[1], size=14)\n",
    "plt.title('Fronteira Separadora do SVM para XOR', size=16)"
   ]
  },
  {
   "cell_type": "code",
   "execution_count": null,
   "metadata": {},
   "outputs": [],
   "source": [
    "df_Cancer = pd.read_excel(\"breastCancer.xlsx\", index_col = \"id\")\n",
    "df_Cancer.head()"
   ]
  },
  {
   "cell_type": "code",
   "execution_count": null,
   "metadata": {},
   "outputs": [],
   "source": [
    "X_Cancer = df_Cancer.iloc[:, 0:-1]\n",
    "y_Cancer = df_Cancer.iloc[:, -1]\n",
    "svm_clf_Cancer = Pipeline([\n",
    "    (\"scaler\", StandardScaler()),\n",
    "    (\"linear_svc\", LinearSVC(C = 1, loss = \"hinge\", penalty='l2', max_iter = 1000)),\n",
    "])\n",
    "svm_clf_Cancer.fit(X_Cancer, y_Cancer)\n",
    "Predicao_Cancer = svm_clf_Cancer.predict(X_Cancer)\n",
    "confusion_matrix(y_Cancer, Predicao_Cancer)"
   ]
  },
  {
   "cell_type": "code",
   "execution_count": null,
   "metadata": {},
   "outputs": [],
   "source": [
    "df_Cancer_Resultado = df_Cancer.copy()\n",
    "df_Cancer_Resultado[\"Predicao_Cancer\"] = Predicao_Cancer\n",
    "df_Cancer_Resultado.head()"
   ]
  },
  {
   "cell_type": "code",
   "execution_count": null,
   "metadata": {},
   "outputs": [],
   "source": [
    "from sklearn.metrics import accuracy_score"
   ]
  },
  {
   "cell_type": "code",
   "execution_count": null,
   "metadata": {},
   "outputs": [],
   "source": [
    "Acuracia_Cancer = accuracy_score(y_Cancer, Predicao_Cancer)\n",
    "Acuracia_Cancer = round(Acuracia_Cancer * 100, 2)\n",
    "Acuracia_Cancer"
   ]
  },
  {
   "cell_type": "code",
   "execution_count": null,
   "metadata": {},
   "outputs": [],
   "source": [
    "valor = 10\n",
    "plt.figure(figsize = (16, 6))\n",
    "Parametros_Plot_mlxtend = {\"X\" : X_Cancer.values,\n",
    "                           \"y\" : y_Cancer.values,\n",
    "                           \"clf\" : svm_clf_Cancer,\n",
    "                           \"filler_feature_values\" : {2: valor, 3: valor, 4: valor, 5: valor, 6: valor, 7: valor, 8: valor},\n",
    "                           \"filler_feature_ranges\" : {2: valor, 3: valor, 4: valor, 5: valor, 6: valor, 7: valor, 8: valor}\n",
    "                          }\n",
    "plot_decision_regions(**Parametros_Plot_mlxtend)\n",
    "plt.xlabel(X_Cancer.columns[0], size = 14)\n",
    "plt.ylabel(X_Cancer.columns[1], size = 14)\n",
    "plt.title(f'Fronteira Separadora do SVM para Tipos de Cancer com {Acuracia_Cancer}%', size = 16)\n",
    "plt.show()"
   ]
  }
 ],
 "metadata": {
  "kernelspec": {
   "display_name": "Python 3",
   "language": "python",
   "name": "python3"
  },
  "language_info": {
   "codemirror_mode": {
    "name": "ipython",
    "version": 3
   },
   "file_extension": ".py",
   "mimetype": "text/x-python",
   "name": "python",
   "nbconvert_exporter": "python",
   "pygments_lexer": "ipython3",
   "version": "3.7.4"
  }
 },
 "nbformat": 4,
 "nbformat_minor": 4
}
